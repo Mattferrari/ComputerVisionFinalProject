{
 "cells": [
  {
   "cell_type": "code",
   "execution_count": 1,
   "metadata": {},
   "outputs": [
    {
     "name": "stdout",
     "output_type": "stream",
     "text": [
      "Requirement already satisfied: scikit-image in c:\\users\\jorge.moratalla\\appdata\\local\\programs\\python\\python312\\lib\\site-packages (0.24.0)\n",
      "Requirement already satisfied: numpy>=1.23 in c:\\users\\jorge.moratalla\\appdata\\local\\programs\\python\\python312\\lib\\site-packages (from scikit-image) (1.26.0)\n",
      "Requirement already satisfied: scipy>=1.9 in c:\\users\\jorge.moratalla\\appdata\\local\\programs\\python\\python312\\lib\\site-packages (from scikit-image) (1.14.1)\n",
      "Requirement already satisfied: networkx>=2.8 in c:\\users\\jorge.moratalla\\appdata\\local\\programs\\python\\python312\\lib\\site-packages (from scikit-image) (3.3)\n",
      "Requirement already satisfied: pillow>=9.1 in c:\\users\\jorge.moratalla\\appdata\\local\\programs\\python\\python312\\lib\\site-packages (from scikit-image) (10.4.0)\n",
      "Requirement already satisfied: imageio>=2.33 in c:\\users\\jorge.moratalla\\appdata\\local\\programs\\python\\python312\\lib\\site-packages (from scikit-image) (2.35.1)\n",
      "Requirement already satisfied: tifffile>=2022.8.12 in c:\\users\\jorge.moratalla\\appdata\\local\\programs\\python\\python312\\lib\\site-packages (from scikit-image) (2024.9.20)\n",
      "Requirement already satisfied: packaging>=21 in c:\\users\\jorge.moratalla\\appdata\\roaming\\python\\python312\\site-packages (from scikit-image) (24.1)\n",
      "Requirement already satisfied: lazy-loader>=0.4 in c:\\users\\jorge.moratalla\\appdata\\local\\programs\\python\\python312\\lib\\site-packages (from scikit-image) (0.4)\n"
     ]
    },
    {
     "name": "stderr",
     "output_type": "stream",
     "text": [
      "\n",
      "[notice] A new release of pip is available: 24.2 -> 24.3.1\n",
      "[notice] To update, run: python.exe -m pip install --upgrade pip\n"
     ]
    }
   ],
   "source": [
    "!pip install scikit-image"
   ]
  },
  {
   "cell_type": "code",
   "execution_count": 1,
   "metadata": {},
   "outputs": [],
   "source": [
    "import os\n",
    "import cv2\n",
    "import imageio\n",
    "import numpy as np\n",
    "from typing import List\n",
    "from utils import non_max_suppression, get_hsv_color_ranges\n",
    "from os.path import dirname, join\n"
   ]
  },
  {
   "cell_type": "code",
   "execution_count": 52,
   "metadata": {},
   "outputs": [
    {
     "name": "stdout",
     "output_type": "stream",
     "text": [
      "./car_imgs\n"
     ]
    }
   ],
   "source": [
    "def load_images(filenames: List) -> List:\n",
    "    return [cv2.imread(filename) for filename in filenames]\n",
    "\n",
    "# TODO Complete the method, use every argument\n",
    "def show_image(img: np.array, img_name: str = \"Image\"):\n",
    "    cv2.imshow(img_name, img)\n",
    "    cv2.waitKey(0)\n",
    "    cv2.destroyAllWindows()\n",
    "\n",
    "# TODO Complete the method, use every argument\n",
    "def write_image(output_folder: str, img_name: str, img: np.array):\n",
    "    img_path = os.path.join(output_folder, img_name)\n",
    "    cv2.imwrite(img_path, img)\n",
    "\n",
    "path = \"./car_imgs\"\n",
    "print(path)\n",
    "imgs_path = [join(path, f\"{img_path}\") for img_path in os.listdir(path)]\n",
    "imgs = load_images(imgs_path)\n"
   ]
  },
  {
   "cell_type": "code",
   "execution_count": 7,
   "metadata": {},
   "outputs": [],
   "source": [
    "for img in imgs:\n",
    "    show_image(img)"
   ]
  },
  {
   "cell_type": "code",
   "execution_count": 53,
   "metadata": {},
   "outputs": [],
   "source": [
    "# TODO Homework\n",
    "\n",
    "resized_image = cv2.resize(imgs[3], (300, 350))\n",
    "# get_hsv_color_ranges(resized_image)\n",
    "hsv_imgs = [cv2.cvtColor(img, cv2.COLOR_BGR2HSV) for img in imgs]\n",
    "\n",
    "light_blue = (98, 131, 0)\n",
    "dark_blue = (135, 255, 255)\n",
    "\n",
    "light_black = (0, 0, 0)\n",
    "dark_black = (179, 255, 21)\n",
    "\n",
    "blue_masks = [cv2.inRange(hsv_img, light_blue, dark_blue) for hsv_img in hsv_imgs]\n",
    "black_masks = [cv2.inRange(hsv_img, light_black, dark_black) for hsv_img in hsv_imgs]\n",
    "\n",
    "team_masks = [cv2.bitwise_or(blue_mask, black_mask)\n",
    "              for blue_mask, black_mask in zip(blue_masks, black_masks)]\n",
    "\n",
    "team_segmented = [cv2.bitwise_and(img, img, mask=mask) for img, mask in zip(imgs, team_masks)]\n",
    "\n",
    "for segmented in team_segmented:\n",
    "    show_image(segmented)\n",
    "\n"
   ]
  },
  {
   "cell_type": "code",
   "execution_count": 60,
   "metadata": {},
   "outputs": [],
   "source": [
    "# TODO Homework\n",
    "\n",
    "resized_image = cv2.resize(imgs[23], (420, 350))\n",
    "# get_hsv_color_ranges(resized_image)\n",
    "hsv_imgs = [cv2.cvtColor(img, cv2.COLOR_BGR2HSV) for img in imgs]\n",
    "\n",
    "light_blue = (0, 153, 0)\n",
    "dark_blue = (255, 255, 255)\n",
    "\n",
    "light_black = (0, 0, 0)\n",
    "dark_black = (179, 255, 21)\n",
    "\n",
    "blue_masks = [cv2.inRange(hsv_img, light_blue, dark_blue) for hsv_img in hsv_imgs]\n",
    "black_masks = [cv2.inRange(hsv_img, light_black, dark_black) for hsv_img in hsv_imgs]\n",
    "\n",
    "team_masks = [cv2.bitwise_or(blue_mask, black_mask)\n",
    "              for blue_mask, black_mask in zip(blue_masks, black_masks)]\n",
    "\n",
    "team_segmented = [cv2.bitwise_and(img, img, mask=mask) for img, mask in zip(imgs, team_masks)]\n",
    "\n",
    "for segmented in team_segmented:\n",
    "    show_image(segmented)"
   ]
  }
 ],
 "metadata": {
  "kernelspec": {
   "display_name": "Python 3",
   "language": "python",
   "name": "python3"
  },
  "language_info": {
   "codemirror_mode": {
    "name": "ipython",
    "version": 3
   },
   "file_extension": ".py",
   "mimetype": "text/x-python",
   "name": "python",
   "nbconvert_exporter": "python",
   "pygments_lexer": "ipython3",
   "version": "3.12.6"
  }
 },
 "nbformat": 4,
 "nbformat_minor": 2
}
