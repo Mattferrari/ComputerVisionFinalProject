{
 "cells": [
  {
   "cell_type": "code",
   "execution_count": null,
   "metadata": {},
   "outputs": [],
   "source": [
    "import cv2\n",
    "import os\n",
    "import copy\n",
    "import imageio\n",
    "from typing import List\n",
    "import numpy as np"
   ]
  },
  {
   "cell_type": "code",
   "execution_count": null,
   "metadata": {},
   "outputs": [],
   "source": [
    "folder_name = \"partB\"\n",
    "folder_path = os.path.join(\"../data\", folder_name)\n",
    "os.makedirs(folder_path, exist_ok=True)"
   ]
  },
  {
   "cell_type": "code",
   "execution_count": null,
   "metadata": {},
   "outputs": [],
   "source": [
    "import glob\n",
    "\n",
    "# This initial part is to highlight that cv2.imshow() and cv2.imwrite() works well with previous BGR conversion\n",
    "def imageio_load_images(filenames: List) -> List:\n",
    "    '''\n",
    "    Load images using imageio.imread function (RGB)\n",
    "    '''\n",
    "    return [imageio.imread(filename) for filename in filenames]\n",
    "\n",
    "def opencv_load_images(filenames: List) -> List:\n",
    "    '''\n",
    "    Load images cv2.imread function (BGR)\n",
    "    '''\n",
    "    return [cv2.imread(filename) for filename in filenames]"
   ]
  },
  {
   "cell_type": "code",
   "execution_count": null,
   "metadata": {},
   "outputs": [],
   "source": [
    "# TODO Apply canny to the images, play with the thresholds to get a good result\n",
    "def show_image(img: np.array, img_name: str = \"Image\"):\n",
    "    cv2.imshow(img_name, img)\n",
    "    cv2.waitKey(0)\n",
    "    cv2.destroyAllWindows()"
   ]
  },
  {
   "cell_type": "code",
   "execution_count": null,
   "metadata": {},
   "outputs": [],
   "source": [
    "# TODO Draw the lines on the images. A line is a tuple of 4 integers (x1, y1, x2, y2) where (x1, y1) and (x2, y2) are the coordinates of the two points of the line.\n",
    "def draw_lines(img, lines, color, thickness):\n",
    "    for line in lines:\n",
    "        x1, y1, x2, y2 = line[0]\n",
    "        cv2.line(img, (x1, y1), (x2, y2), color, thickness)\n",
    "    return img"
   ]
  },
  {
   "cell_type": "code",
   "execution_count": null,
   "metadata": {},
   "outputs": [],
   "source": [
    "# TODO Homework\n",
    "\n",
    "# 3rd image (opencv_images[2])\n",
    "# Define the hough transform parameters\n",
    "rho = 1\n",
    "theta = np.pi / 180\n",
    "threshold = 50\n",
    "min_line_length = 20\n",
    "max_line_gap = 2\n",
    "\n",
    "# Get the edge image for the 3rd image\n",
    "edges = edge_imgs[2]\n",
    "\n",
    "# Apply the hough transform\n",
    "lines = cv2.HoughLinesP(edges, rho, theta, threshold, min_line_length, max_line_gap)\n",
    "print(lines)\n",
    "\n",
    "# Draw the lines on the image (on the original image, make sure to get a deep copy to avoid modifying the original)\n",
    "img_with_lines = draw_lines(copy.deepcopy(opencv_images[2]), lines, (0, 255, 0), thickness=3)\n",
    "\n",
    "# Show the image or save it as you like\n",
    "show_image(img_with_lines)\n",
    "\n",
    "# 4th image (opencv_images[3])\n",
    "rho = 1\n",
    "theta = np.pi/180\n",
    "threshold = 25\n",
    "min_line_length = 5\n",
    "max_line_gap = 35\n",
    "\n",
    "# Get the edge image for the 4th image\n",
    "edges = edge_imgs[3]\n",
    "\n",
    "# Apply the hough transform\n",
    "lines = cv2.HoughLinesP(edges, rho, theta, threshold, min_line_length, max_line_gap)\n",
    "print(lines)\n",
    "\n",
    "# Draw the lines on the image (on the original image, make sure to get a deep copy)\n",
    "img_with_lines = draw_lines(copy.deepcopy(opencv_images[3]), lines, (0, 255, 0), thickness=3)\n",
    "\n",
    "# Show the image or save it as you like\n",
    "show_image(img_with_lines)"
   ]
  }
 ],
 "metadata": {
  "language_info": {
   "name": "python"
  }
 },
 "nbformat": 4,
 "nbformat_minor": 2
}
