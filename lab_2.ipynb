{
 "cells": [
  {
   "cell_type": "markdown",
   "metadata": {},
   "source": [
    "# **Sesión 2:** Procesamiento de Imágenes ⚙️🖼️"
   ]
  },
  {
   "cell_type": "markdown",
   "metadata": {},
   "source": [
    "## **Instalaciones**"
   ]
  },
  {
   "cell_type": "code",
   "execution_count": 33,
   "metadata": {},
   "outputs": [
    {
     "name": "stdout",
     "output_type": "stream",
     "text": [
      "Requirement already satisfied: scikit-image in c:\\users\\matte\\anaconda3\\lib\\site-packages (0.19.2)\n",
      "Requirement already satisfied: numpy>=1.17.0 in c:\\users\\matte\\anaconda3\\lib\\site-packages (from scikit-image) (1.21.5)\n",
      "Requirement already satisfied: scipy>=1.4.1 in c:\\users\\matte\\anaconda3\\lib\\site-packages (from scikit-image) (1.7.3)\n",
      "Requirement already satisfied: networkx>=2.2 in c:\\users\\matte\\anaconda3\\lib\\site-packages (from scikit-image) (2.7.1)\n",
      "Requirement already satisfied: pillow!=7.1.0,!=7.1.1,!=8.3.0,>=6.1.0 in c:\\users\\matte\\anaconda3\\lib\\site-packages (from scikit-image) (8.2.0)\n",
      "Requirement already satisfied: imageio>=2.4.1 in c:\\users\\matte\\anaconda3\\lib\\site-packages (from scikit-image) (2.9.0)\n",
      "Requirement already satisfied: tifffile>=2019.7.26 in c:\\users\\matte\\anaconda3\\lib\\site-packages (from scikit-image) (2021.7.2)\n",
      "Requirement already satisfied: PyWavelets>=1.1.1 in c:\\users\\matte\\anaconda3\\lib\\site-packages (from scikit-image) (1.3.0)\n",
      "Requirement already satisfied: packaging>=20.0 in c:\\users\\matte\\anaconda3\\lib\\site-packages (from scikit-image) (21.3)\n",
      "Requirement already satisfied: pyparsing!=3.0.5,>=2.0.2 in c:\\users\\matte\\anaconda3\\lib\\site-packages (from packaging>=20.0->scikit-image) (3.0.4)\n"
     ]
    },
    {
     "name": "stderr",
     "output_type": "stream",
     "text": [
      "\n",
      "[notice] A new release of pip is available: 24.0 -> 24.2\n",
      "[notice] To update, run: python.exe -m pip install --upgrade pip\n"
     ]
    }
   ],
   "source": [
    "!pip install scikit-image"
   ]
  },
  {
   "cell_type": "markdown",
   "metadata": {},
   "source": [
    "## **Librerías**"
   ]
  },
  {
   "cell_type": "code",
   "execution_count": 43,
   "metadata": {},
   "outputs": [],
   "source": [
    "import os\n",
    "import cv2\n",
    "import imageio\n",
    "import numpy as np\n",
    "from typing import List\n",
    "from utils import non_max_suppression, get_hsv_color_ranges"
   ]
  },
  {
   "cell_type": "markdown",
   "metadata": {},
   "source": [
    "## **Apartado A: Segmentación por color**"
   ]
  },
  {
   "cell_type": "markdown",
   "metadata": {},
   "source": [
    "El objetivo de este apartado es segmentar los colores naranja y blanco de las imágenes en la carpeta ``data``.\n",
    "\n",
    "1. **Tarea A.1**. Defina y ejecute el método para cargar imágenes ``load_imgs()``.\n",
    "2. **Tarea A.2.** Defina los métodos ``show_image()`` y ``write_image()`` para visualizar y guardar imágenes.\n",
    "3. **Tarea A.3.** Cambia el espacio de color de las imágenes a uno donde la crominancia y la intensidad estén separados (HSV).\n",
    "4. **Tarea A.4.** Segmenta los colores anaranjados.\n",
    "5. **Tarea A.5.** Segmenta los colores blancos.\n",
    "6. **Tarea A.6.** Junta las máscaras para cada imagen (naranja + blanco) y segmenta cada una de ellas.\n",
    "7. **Tarea A.7.** Guarda las imágenes."
   ]
  },
  {
   "cell_type": "markdown",
   "metadata": {},
   "source": [
    "### **Tarea A.1:** Defina y ejecute el método para cargar imágenes ``load_images()``"
   ]
  },
  {
   "cell_type": "code",
   "execution_count": 44,
   "metadata": {},
   "outputs": [],
   "source": [
    "def load_images(filenames: List) -> List:\n",
    "    return [cv2.imread(filename) for filename in filenames]"
   ]
  },
  {
   "cell_type": "code",
   "execution_count": 45,
   "metadata": {},
   "outputs": [
    {
     "name": "stdout",
     "output_type": "stream",
     "text": [
      "c:\\Users\\matte\\OneDrive\\Escritorio\\3IMAT\\Vision_por_ordenador\\Laboratorio\\CVI-ICAI\\Lab_2\\data\n",
      "[array([[[ 91, 131, 103],\n",
      "        [ 86, 126, 101],\n",
      "        [ 75, 118,  97],\n",
      "        ...,\n",
      "        [ 47,  86,  41],\n",
      "        [ 47,  83,  39],\n",
      "        [ 44,  80,  36]],\n",
      "\n",
      "       [[ 90, 129, 103],\n",
      "        [ 87, 127, 102],\n",
      "        [ 78, 119,  98],\n",
      "        ...,\n",
      "        [ 52,  90,  48],\n",
      "        [ 50,  88,  46],\n",
      "        [ 47,  85,  43]],\n",
      "\n",
      "       [[ 91, 127, 103],\n",
      "        [ 87, 126, 104],\n",
      "        [ 79, 122, 101],\n",
      "        ...,\n",
      "        [ 55,  97,  56],\n",
      "        [ 53,  95,  54],\n",
      "        [ 52,  92,  51]],\n",
      "\n",
      "       ...,\n",
      "\n",
      "       [[  9,  82, 120],\n",
      "        [  5,  78, 116],\n",
      "        [  2,  72, 112],\n",
      "        ...,\n",
      "        [  0,  30,  19],\n",
      "        [  0,  30,  19],\n",
      "        [  0,  30,  19]],\n",
      "\n",
      "       [[  6,  71, 115],\n",
      "        [  3,  68, 112],\n",
      "        [  0,  65, 110],\n",
      "        ...,\n",
      "        [  0,  28,  19],\n",
      "        [  0,  28,  19],\n",
      "        [  0,  28,  19]],\n",
      "\n",
      "       [[  0,  53, 102],\n",
      "        [  0,  55, 104],\n",
      "        [  0,  61, 109],\n",
      "        ...,\n",
      "        [  0,  26,  20],\n",
      "        [  0,  26,  20],\n",
      "        [  0,  26,  20]]], dtype=uint8), array([[[ 0,  3,  0],\n",
      "        [ 0,  3,  0],\n",
      "        [ 0,  3,  1],\n",
      "        ...,\n",
      "        [ 8, 18, 28],\n",
      "        [12, 24, 34],\n",
      "        [14, 26, 36]],\n",
      "\n",
      "       [[ 0,  3,  0],\n",
      "        [ 0,  3,  0],\n",
      "        [ 0,  2,  0],\n",
      "        ...,\n",
      "        [ 4, 16, 26],\n",
      "        [10, 22, 32],\n",
      "        [13, 26, 34]],\n",
      "\n",
      "       [[ 0,  3,  0],\n",
      "        [ 0,  3,  0],\n",
      "        [ 0,  2,  0],\n",
      "        ...,\n",
      "        [ 0, 15, 22],\n",
      "        [ 6, 22, 29],\n",
      "        [10, 26, 32]],\n",
      "\n",
      "       ...,\n",
      "\n",
      "       [[18, 56, 90],\n",
      "        [ 2, 40, 74],\n",
      "        [ 0, 31, 65],\n",
      "        ...,\n",
      "        [ 0, 20, 44],\n",
      "        [ 0, 20, 44],\n",
      "        [ 0, 20, 44]],\n",
      "\n",
      "       [[24, 62, 96],\n",
      "        [ 3, 41, 75],\n",
      "        [ 0, 28, 62],\n",
      "        ...,\n",
      "        [ 0, 23, 47],\n",
      "        [ 4, 28, 52],\n",
      "        [ 7, 31, 55]],\n",
      "\n",
      "       [[18, 59, 92],\n",
      "        [22, 63, 96],\n",
      "        [16, 57, 90],\n",
      "        ...,\n",
      "        [ 0, 23, 47],\n",
      "        [ 0, 23, 47],\n",
      "        [ 0, 23, 47]]], dtype=uint8), array([[[ 41,  14,  18],\n",
      "        [ 41,  14,  18],\n",
      "        [ 41,  14,  18],\n",
      "        ...,\n",
      "        [177, 108, 111],\n",
      "        [188, 112, 113],\n",
      "        [194, 110, 104]],\n",
      "\n",
      "       [[ 41,  14,  18],\n",
      "        [ 41,  14,  18],\n",
      "        [ 41,  14,  18],\n",
      "        ...,\n",
      "        [205, 123, 122],\n",
      "        [217, 130, 126],\n",
      "        [222, 131, 122]],\n",
      "\n",
      "       [[ 40,  13,  17],\n",
      "        [ 41,  14,  18],\n",
      "        [ 41,  14,  18],\n",
      "        ...,\n",
      "        [230, 139, 132],\n",
      "        [243, 150, 141],\n",
      "        [252, 157, 142]],\n",
      "\n",
      "       ...,\n",
      "\n",
      "       [[242, 100, 113],\n",
      "        [245, 109, 121],\n",
      "        [232, 110, 120],\n",
      "        ...,\n",
      "        [154, 111, 124],\n",
      "        [160, 117, 130],\n",
      "        [168, 125, 136]],\n",
      "\n",
      "       [[235, 100, 110],\n",
      "        [232, 103, 112],\n",
      "        [218,  99, 107],\n",
      "        ...,\n",
      "        [131, 102, 117],\n",
      "        [140, 110, 123],\n",
      "        [147, 117, 130]],\n",
      "\n",
      "       [[220,  98, 106],\n",
      "        [212,  93, 101],\n",
      "        [195,  83,  90],\n",
      "        ...,\n",
      "        [118, 101, 115],\n",
      "        [125, 106, 121],\n",
      "        [132, 114, 127]]], dtype=uint8), array([[[39, 37, 26],\n",
      "        [39, 37, 26],\n",
      "        [39, 37, 26],\n",
      "        ...,\n",
      "        [39, 40, 20],\n",
      "        [39, 40, 20],\n",
      "        [39, 40, 20]],\n",
      "\n",
      "       [[38, 36, 25],\n",
      "        [38, 36, 25],\n",
      "        [38, 36, 25],\n",
      "        ...,\n",
      "        [38, 39, 19],\n",
      "        [38, 39, 19],\n",
      "        [38, 39, 19]],\n",
      "\n",
      "       [[38, 36, 25],\n",
      "        [38, 36, 25],\n",
      "        [38, 36, 25],\n",
      "        ...,\n",
      "        [38, 39, 19],\n",
      "        [38, 39, 19],\n",
      "        [38, 39, 19]],\n",
      "\n",
      "       ...,\n",
      "\n",
      "       [[53, 64, 38],\n",
      "        [54, 65, 39],\n",
      "        [54, 65, 39],\n",
      "        ...,\n",
      "        [26, 25, 21],\n",
      "        [26, 25, 21],\n",
      "        [26, 25, 21]],\n",
      "\n",
      "       [[54, 65, 39],\n",
      "        [54, 65, 39],\n",
      "        [55, 66, 40],\n",
      "        ...,\n",
      "        [25, 24, 20],\n",
      "        [25, 24, 20],\n",
      "        [25, 24, 20]],\n",
      "\n",
      "       [[54, 65, 39],\n",
      "        [54, 65, 39],\n",
      "        [55, 66, 40],\n",
      "        ...,\n",
      "        [24, 22, 21],\n",
      "        [24, 22, 21],\n",
      "        [24, 22, 21]]], dtype=uint8), array([[[ 1, 37, 47],\n",
      "        [ 0, 36, 46],\n",
      "        [ 0, 37, 46],\n",
      "        ...,\n",
      "        [ 5, 21, 34],\n",
      "        [ 3, 21, 32],\n",
      "        [ 1, 19, 30]],\n",
      "\n",
      "       [[ 1, 37, 47],\n",
      "        [ 0, 36, 46],\n",
      "        [ 0, 36, 46],\n",
      "        ...,\n",
      "        [ 4, 21, 34],\n",
      "        [ 3, 21, 32],\n",
      "        [ 1, 19, 30]],\n",
      "\n",
      "       [[ 1, 37, 47],\n",
      "        [ 0, 36, 46],\n",
      "        [ 0, 36, 46],\n",
      "        ...,\n",
      "        [ 4, 21, 34],\n",
      "        [ 3, 21, 32],\n",
      "        [ 1, 19, 30]],\n",
      "\n",
      "       ...,\n",
      "\n",
      "       [[ 1, 58, 59],\n",
      "        [ 1, 57, 58],\n",
      "        [ 1, 55, 56],\n",
      "        ...,\n",
      "        [ 2, 17, 36],\n",
      "        [ 0, 18, 35],\n",
      "        [ 0, 18, 35]],\n",
      "\n",
      "       [[ 1, 58, 59],\n",
      "        [ 1, 57, 58],\n",
      "        [ 1, 55, 56],\n",
      "        ...,\n",
      "        [ 0, 14, 36],\n",
      "        [ 0, 14, 36],\n",
      "        [ 0, 15, 34]],\n",
      "\n",
      "       [[ 1, 58, 59],\n",
      "        [ 1, 57, 58],\n",
      "        [ 1, 55, 56],\n",
      "        ...,\n",
      "        [ 0, 12, 36],\n",
      "        [ 0, 12, 36],\n",
      "        [ 0, 12, 35]]], dtype=uint8), array([[[ 8,  0,  1],\n",
      "        [ 8,  0,  1],\n",
      "        [ 8,  0,  1],\n",
      "        ...,\n",
      "        [62, 90, 91],\n",
      "        [68, 91, 93],\n",
      "        [72, 95, 97]],\n",
      "\n",
      "       [[ 8,  0,  1],\n",
      "        [ 8,  0,  1],\n",
      "        [ 8,  0,  1],\n",
      "        ...,\n",
      "        [61, 89, 90],\n",
      "        [67, 90, 92],\n",
      "        [71, 94, 96]],\n",
      "\n",
      "       [[ 8,  0,  1],\n",
      "        [ 8,  0,  1],\n",
      "        [ 8,  0,  1],\n",
      "        ...,\n",
      "        [60, 87, 91],\n",
      "        [66, 88, 93],\n",
      "        [70, 92, 97]],\n",
      "\n",
      "       ...,\n",
      "\n",
      "       [[ 5,  1,  0],\n",
      "        [ 5,  1,  0],\n",
      "        [ 6,  0,  1],\n",
      "        ...,\n",
      "        [50, 67, 80],\n",
      "        [50, 67, 80],\n",
      "        [50, 67, 80]],\n",
      "\n",
      "       [[ 2,  0,  0],\n",
      "        [ 2,  0,  0],\n",
      "        [ 4,  0,  0],\n",
      "        ...,\n",
      "        [45, 61, 74],\n",
      "        [45, 61, 74],\n",
      "        [45, 61, 74]],\n",
      "\n",
      "       [[ 2,  0,  0],\n",
      "        [ 2,  0,  0],\n",
      "        [ 2,  0,  0],\n",
      "        ...,\n",
      "        [45, 61, 74],\n",
      "        [45, 61, 74],\n",
      "        [45, 61, 74]]], dtype=uint8)]\n"
     ]
    }
   ],
   "source": [
    "# TODO Build a list containing the paths of all images in the data folder\n",
    "\n",
    "from os.path import dirname, join\n",
    "path = join(dirname(os.getcwd()), \"data\")\n",
    "print(path)\n",
    "imgs_path = [join(path, f\"{img_path}\") for img_path in os.listdir(path)]\n",
    "imgs = load_images(imgs_path)\n",
    "print(imgs)\n"
   ]
  },
  {
   "cell_type": "markdown",
   "metadata": {},
   "source": [
    "### **Tarea A.2**. Defina los métodos ``show_image()`` y ``write_image()`` para visualizar y guardar imágenes"
   ]
  },
  {
   "cell_type": "code",
   "execution_count": 46,
   "metadata": {},
   "outputs": [],
   "source": [
    "# TODO Complete the method, use every argument\n",
    "def show_image(img: np.array, img_name: str = \"Image\"):\n",
    "    cv2.imshow(img_name, img)\n",
    "    cv2.waitKey(0)\n",
    "    cv2.destroyAllWindows()\n",
    "\n",
    "# TODO Complete the method, use every argument\n",
    "def write_image(output_folder: str, img_name: str, img: np.array):\n",
    "    img_path = os.path.join(output_folder, img_name)\n",
    "    cv2.imwrite(img_path, img)\n",
    "\n",
    "for img in imgs:\n",
    "    show_image(img)"
   ]
  },
  {
   "cell_type": "markdown",
   "metadata": {},
   "source": [
    "### **Tarea A.3:** Cambie el espacio de color de las imágenes a uno donde la crominancia y la intensidad estén separados (HSV)"
   ]
  },
  {
   "cell_type": "code",
   "execution_count": 47,
   "metadata": {},
   "outputs": [],
   "source": [
    "# TODO Get a list with ìmgs in HSV color space\n",
    "hsv_imgs = [cv2.cvtColor(img, cv2.COLOR_RGB2HSV) for img in imgs]\n"
   ]
  },
  {
   "cell_type": "markdown",
   "metadata": {},
   "source": [
    "### **Tarea A.4:** Segmente los colores anaranjados"
   ]
  },
  {
   "cell_type": "code",
   "execution_count": 48,
   "metadata": {},
   "outputs": [
    {
     "name": "stdout",
     "output_type": "stream",
     "text": [
      "[array([[0, 0, 0, ..., 0, 0, 0],\n",
      "       [0, 0, 0, ..., 0, 0, 0],\n",
      "       [0, 0, 0, ..., 0, 0, 0],\n",
      "       ...,\n",
      "       [0, 0, 0, ..., 0, 0, 0],\n",
      "       [0, 0, 0, ..., 0, 0, 0],\n",
      "       [0, 0, 0, ..., 0, 0, 0]], dtype=uint8), array([[0, 0, 0, ..., 0, 0, 0],\n",
      "       [0, 0, 0, ..., 0, 0, 0],\n",
      "       [0, 0, 0, ..., 0, 0, 0],\n",
      "       ...,\n",
      "       [0, 0, 0, ..., 0, 0, 0],\n",
      "       [0, 0, 0, ..., 0, 0, 0],\n",
      "       [0, 0, 0, ..., 0, 0, 0]], dtype=uint8), array([[0, 0, 0, ..., 0, 0, 0],\n",
      "       [0, 0, 0, ..., 0, 0, 0],\n",
      "       [0, 0, 0, ..., 0, 0, 0],\n",
      "       ...,\n",
      "       [0, 0, 0, ..., 0, 0, 0],\n",
      "       [0, 0, 0, ..., 0, 0, 0],\n",
      "       [0, 0, 0, ..., 0, 0, 0]], dtype=uint8), array([[0, 0, 0, ..., 0, 0, 0],\n",
      "       [0, 0, 0, ..., 0, 0, 0],\n",
      "       [0, 0, 0, ..., 0, 0, 0],\n",
      "       ...,\n",
      "       [0, 0, 0, ..., 0, 0, 0],\n",
      "       [0, 0, 0, ..., 0, 0, 0],\n",
      "       [0, 0, 0, ..., 0, 0, 0]], dtype=uint8), array([[0, 0, 0, ..., 0, 0, 0],\n",
      "       [0, 0, 0, ..., 0, 0, 0],\n",
      "       [0, 0, 0, ..., 0, 0, 0],\n",
      "       ...,\n",
      "       [0, 0, 0, ..., 0, 0, 0],\n",
      "       [0, 0, 0, ..., 0, 0, 0],\n",
      "       [0, 0, 0, ..., 0, 0, 0]], dtype=uint8), array([[0, 0, 0, ..., 0, 0, 0],\n",
      "       [0, 0, 0, ..., 0, 0, 0],\n",
      "       [0, 0, 0, ..., 0, 0, 0],\n",
      "       ...,\n",
      "       [0, 0, 0, ..., 0, 0, 0],\n",
      "       [0, 0, 0, ..., 0, 0, 0],\n",
      "       [0, 0, 0, ..., 0, 0, 0]], dtype=uint8)]\n"
     ]
    }
   ],
   "source": [
    "# TODO Define orange color range\n",
    "light_orange = (1, 190, 200)\n",
    "dark_orange = (255, 255, 255)\n",
    "\n",
    "# TODO Compute a list that contains a mask (which should segment orange colors) for every image.\n",
    "orange_masks = [cv2.inRange(i, light_orange, dark_orange) for i in hsv_imgs]\n",
    "print(orange_masks)\n",
    "# TODO Compute a list that contains the result of multiplying the original image with its orange colors mask.\n",
    "orange_segmented = [cv2.bitwise_and(img, img, mask=mask) for (img, mask) in zip(imgs, orange_masks)]\n",
    "\n",
    "# TODO Show an original image\n",
    "for img in imgs:\n",
    "    show_image(img)\n",
    "\n",
    "# TODO Show a mask\n",
    "for mask in orange_masks:\n",
    "    show_image(mask)\n",
    "\n",
    "# TODO Show a segmented image\n",
    "for segmented in orange_segmented:\n",
    "    show_image(segmented)"
   ]
  },
  {
   "cell_type": "markdown",
   "metadata": {},
   "source": [
    "### **Tarea A.5:** Segmente los colores blancos."
   ]
  },
  {
   "cell_type": "markdown",
   "metadata": {},
   "source": [
    "Para detectar el rango de blancos complete la siguiente celda y ejecutela para investigar el rango de valores necesarios."
   ]
  },
  {
   "cell_type": "code",
   "execution_count": 49,
   "metadata": {},
   "outputs": [],
   "source": [
    "# TODO Discover white color ranges\n",
    "# get_hsv_color_ranges(imgs[0])\n",
    "\n",
    "# TODO Define white color range\n",
    "light_white = (0, 0, 145)\n",
    "dark_white = (255, 83, 255)\n",
    "\n",
    "# TODO Compute a list that contains a mask (which should segment white colors) for every image.\n",
    "white_masks = [cv2.inRange(i, light_white, dark_white) for i in hsv_imgs]\n",
    "\n",
    "# TODO Compute a list that contains the result of multiplying the original image with its white colors mask.\n",
    "white_segmented = [cv2.bitwise_and(img, img, mask=mask) for (img, mask) in zip(imgs, white_masks)]\n",
    "\n",
    "# TODO Show an original image\n",
    "for img in imgs:\n",
    "    show_image(img)\n",
    "\n",
    "# TODO Show a mask\n",
    "for mask in white_masks:\n",
    "    show_image(mask)\n",
    "\n",
    "# TODO Show a segmented image\n",
    "for segmented in white_segmented:\n",
    "    show_image(segmented)"
   ]
  },
  {
   "cell_type": "markdown",
   "metadata": {},
   "source": [
    "### **Tarea A.6:** Junte las máscaras para cada imagen (naranja + blanco) y segmente cada una de ellas."
   ]
  },
  {
   "cell_type": "code",
   "execution_count": 50,
   "metadata": {},
   "outputs": [],
   "source": [
    "# TODO Join orange_masks and white_masks\n",
    "fish_masks = (orange_masks[0]+white_masks[0],\n",
    "              orange_masks[1]+white_masks[1],\n",
    "              orange_masks[2]+white_masks[2])\n",
    "    \n",
    "# TODO Compute a list that contains the result of multiplying the original image with its complete mask.\n",
    "fish = [cv2.bitwise_and(img, img, mask=mask) for (img, mask) in zip(imgs, fish_masks)]\n",
    "\n",
    "# TODO Show an original image\n",
    "# for img in imgs:\n",
    "#     show_image(img)\n",
    "\n",
    "# TODO Show a mask\n",
    "for mask in fish_masks:\n",
    "    show_image(mask)\n",
    "\n",
    "# TODO Show a segmented image\n",
    "for segmented in fish:\n",
    "    show_image(segmented)"
   ]
  },
  {
   "cell_type": "markdown",
   "metadata": {},
   "source": [
    "### **Tarea A.7:** Guarde las imágenes"
   ]
  },
  {
   "cell_type": "code",
   "execution_count": 51,
   "metadata": {},
   "outputs": [],
   "source": [
    "# TODO Define your output folder and save every fish image\n",
    "output_folder = output_folder = r\"C:\\Users\\matte\\OneDrive\\Escritorio\\3IMAT\\Vision_por_ordenador\\Laboratorio\\CVI-ICAI\\Lab_2\\OutputFolder\"\n",
    "\n",
    "for i in range(len(imgs)):  \n",
    "    write_image(output_folder=output_folder, img_name=f\"fish{i}.png\", img=imgs[i])"
   ]
  },
  {
   "cell_type": "markdown",
   "metadata": {},
   "source": [
    "### **Pregunta A.1:** Segmente por color el escudo de su equipo deportivo favorito: descompóngalo en al menos 2 colores. "
   ]
  },
  {
   "cell_type": "code",
   "execution_count": 54,
   "metadata": {},
   "outputs": [
    {
     "name": "stdout",
     "output_type": "stream",
     "text": [
      "Path de imágenes: c:\\Users\\matte\\OneDrive\\Escritorio\\3IMAT\\Vision_por_ordenador\\Laboratorio\\CVI-ICAI\\Lab_2\\Escudo_Inter\n"
     ]
    }
   ],
   "source": [
    "# TODO Homework\n",
    "\n",
    "path = join(dirname(os.getcwd()), \"Escudo_Inter\")\n",
    "print(\"Path de imágenes:\", path)\n",
    "inter_img_path = [join(path, img_path) for img_path in os.listdir(path)]\n",
    "img_inter = load_images(inter_img_path)  # Asume que ya tienes esta función definida para cargar imágenes\n",
    "\n",
    "show_image(img_inter[0])\n",
    "# get_hsv_color_ranges(img_inter[0])\n",
    "hsv_imgs = [cv2.cvtColor(img, cv2.COLOR_RGB2HSV) for img in img_inter]\n",
    "\n",
    "light_blue = (0, 196, 0)\n",
    "dark_blue = (255, 255, 255)\n",
    "\n",
    "light_white = (0, 0, 172)\n",
    "dark_white = (255, 255, 255)\n",
    "\n",
    "blue_masks = [cv2.inRange(hsv_img, light_blue, dark_blue) for hsv_img in hsv_imgs]\n",
    "white_masks = [cv2.inRange(hsv_img, light_white, dark_white) for hsv_img in hsv_imgs]\n",
    "\n",
    "team_masks = [cv2.bitwise_or(blue_mask, white_mask)\n",
    "              for blue_mask, white_mask in zip(blue_masks, white_masks)]\n",
    "\n",
    "team_segmented = [cv2.bitwise_and(img, img, mask=mask) for img, mask in zip(img_inter, team_masks)]\n",
    "\n",
    "for segmented in team_segmented:\n",
    "    show_image(segmented)\n",
    "\n"
   ]
  },
  {
   "cell_type": "markdown",
   "metadata": {},
   "source": [
    "### **Pregunta A.2:** ¿Qué ocurre si carga las imágenes con la función ``imageio.read()`` y luego la muestra con el método ``show_image()``? ¿A qué se debe este comportamiento?"
   ]
  },
  {
   "cell_type": "code",
   "execution_count": 55,
   "metadata": {},
   "outputs": [
    {
     "name": "stdout",
     "output_type": "stream",
     "text": [
      "Mediante imageio se observan las imágenes de color azul en vez de naranja.\n",
      "\n",
      "Este comportamiento se debe a que la libreria cv2 lee las imagenes con el código RGB, mientras que imageio las lee en GBR. Esto hace que la matriz esté en un orden incorrecto.\n"
     ]
    }
   ],
   "source": [
    "def load_images(filenames: List) -> List:\n",
    "    return [imageio.imread(filename) for filename in filenames]\n",
    "\n",
    "# TODO Homework: Load images\n",
    "\n",
    "path = join(dirname(os.getcwd()), \"data\")\n",
    "imgs_path = [join(path, f\"{img_path}\") for img_path in os.listdir(path)]\n",
    "question_imgs = load_images(imgs_path)\n",
    "\n",
    "\n",
    "# TODO Homework: Show it\n",
    "for img in question_imgs:\n",
    "    show_image(img)\n",
    "\n",
    "print(\"Mediante imageio se observan las imágenes de color azul en vez de naranja.\") \n",
    "print(\"\\nEste comportamiento se debe a que la libreria cv2 lee las imagenes con el código RGB, mientras que imageio las lee en GBR. Esto hace que la matriz esté en un orden incorrecto.\")"
   ]
  },
  {
   "cell_type": "markdown",
   "metadata": {},
   "source": [
    "## **Apartado B:** Filtro Gaussiano y Detección de bordes: Sobel y Canny"
   ]
  },
  {
   "cell_type": "markdown",
   "metadata": {},
   "source": [
    "El objetivo de este apartado es detectar los bordes de las imágenes de la carpeta ``data``. Para ello, deberá seguir los siguientes pasos:\n",
    "\n",
    "1. **Tarea B.1.** Defina el método ``gaussian_blur()`` que aplique un filtro gausiano para obtener imágenes borrosas. Siga todas las indicaciones del enunciado.\n",
    "2. **Tarea B.2.** Aplique el método ``gaussian_blur()`` a todas las imágenes en ``data``.\n",
    "\n",
    "\n",
    "3. **Tarea B.3.** Defina la función ``sobel_edge_detector()`` que detecte bordes con el método Sobel. Siga todas las indicaciones del enunciado.\n",
    "4. **Tarea B.4.** Aplique el método ``sobel_edge_detector()`` a todas las imágenes en ``data``.\n",
    "\n",
    "\n",
    "5. **Tarea B.5.** Defina la función ``canny_edge_detector()`` que detecte bordes con el método Canny. Siga todas las indicaciones del enunciado.\n",
    "6. **Tarea B.6.** Aplique el método ``canny_edge_detector()`` a todas las imágenes en ``data``."
   ]
  },
  {
   "cell_type": "markdown",
   "metadata": {},
   "source": [
    "### **Tarea B.1:** Defina el método ``gaussian_blur()`` que aplique un filtro gausiano para obtener imágenes borrosas."
   ]
  },
  {
   "cell_type": "code",
   "execution_count": 56,
   "metadata": {},
   "outputs": [],
   "source": [
    "# TODO Define the method\n",
    "def gaussian_blur(img: np.array, sigma: float, filter_shape: List[int]=None, verbose: bool = False) -> np.array:\n",
    "    # TODO If not given, compute the filter shape \n",
    "    if filter_shape == None:\n",
    "        filter_l = sigma*(2*4) - 1\n",
    "    else:\n",
    "        filter_l = filter_shape\n",
    "    \n",
    "    # TODO Create the filter coordinates matrices\n",
    "    y, x = np.mgrid[-(filter_l+1)/2:(filter_l+1)/2, -(filter_l+1)/2:(filter_l+1)/2]\n",
    "    \n",
    "    # TODO Define the formula that goberns the filter\n",
    "    factor_1 = 1 / (2.0 * np.pi * sigma**2)\n",
    "    factor_2 = np.exp(-((x**2 + y**2) / (2.0*sigma**2)))\n",
    "    gaussian_filter = factor_1 * factor_2\n",
    "    \n",
    "    # TODO Process the image\n",
    "    gb_img = cv2.filter2D(img, kernel=gaussian_filter, ddepth=-1)\n",
    "    \n",
    "    if verbose:\n",
    "        show_image(img=gb_img, img_name=f\"Gaussian Blur: Sigma = {sigma}\")\n",
    "    \n",
    "    return gb_img.astype(np.uint8)"
   ]
  },
  {
   "cell_type": "markdown",
   "metadata": {},
   "source": [
    "### **Tarea B.2.** Aplique el método ``gaussian_blur()`` a todas las imágenes en ``data``."
   ]
  },
  {
   "cell_type": "code",
   "execution_count": 57,
   "metadata": {},
   "outputs": [],
   "source": [
    "# TODO Get the gaussian blurred images using a list comprehension\n",
    "gauss_sigma = 5\n",
    "gb_imgs = [gaussian_blur(img, gauss_sigma) for img in imgs]"
   ]
  },
  {
   "cell_type": "markdown",
   "metadata": {},
   "source": [
    "### **Tarea B.3:** Defina la función ``sobel_edge_detector()`` que detecte bordes con el método Sobel."
   ]
  },
  {
   "cell_type": "code",
   "execution_count": 58,
   "metadata": {},
   "outputs": [],
   "source": [
    "# TODO Define the method\n",
    "def sobel_edge_detector(img: np.array, filter: np.array, gauss_sigma: float, gauss_filter_shape: List[int] = None, verbose: bool = True) -> np.array:\n",
    "    # TODO Transform the img to grayscale\n",
    "    gray_img = cv2.cvtColor(img, cv2.COLOR_BGR2GRAY)\n",
    "    \n",
    "    # TODO Get a blurry img to improve edge detections\n",
    "    blurred = gaussian_blur(img=gray_img, sigma=5, filter_shape=gauss_filter_shape, verbose=verbose)\n",
    "    \n",
    "    # Re-scale\n",
    "    blurred = blurred/255\n",
    "    \n",
    "    # TODO Get vertical edges\n",
    "    vertical_kernel = filter\n",
    "    v_edges = cv2.filter2D(blurred, ddepth=cv2.CV_64F, kernel=vertical_kernel)\n",
    "    \n",
    "    # TODO Transform the filter to get the orthogonal edges\n",
    "    filter = filter.transpose()\n",
    "    \n",
    "    # TODO Get horizontal edges\n",
    "    h_edges = cv2.filter2D(blurred, ddepth=cv2.CV_64F, kernel=filter)\n",
    "    \n",
    "    # TODO Get edges\n",
    "    sobel_edges_img = np.hypot(v_edges, h_edges)\n",
    "    \n",
    "    # Get edges angle\n",
    "    theta = np.arctan2(v_edges, h_edges)\n",
    "    \n",
    "    # Visualize if needed\n",
    "    if verbose:\n",
    "        show_image(img=sobel_edges_img, img_name=\"Sobel Edges\")\n",
    "    \n",
    "    return np.squeeze(sobel_edges_img), np.squeeze(theta)"
   ]
  },
  {
   "cell_type": "markdown",
   "metadata": {},
   "source": [
    "### **Tarea B.4.** Aplique el método ``sobel_edge_detector()`` a todas las imágenes en ``data``."
   ]
  },
  {
   "cell_type": "code",
   "execution_count": 59,
   "metadata": {},
   "outputs": [],
   "source": [
    "# TODO Define a sigma value\n",
    "gauss_sigma = 5\n",
    "\n",
    "# TODO Define the Sobel filter\n",
    "sobel_filter = np.array([[1,0,-1], [2,0,-2], [1,0,-1]])\n",
    "\n",
    "# TODO Get the edges detected by Sobel using a list comprehension\n",
    "sobel_edges_imgs = [sobel_edge_detector(img, sobel_filter, gauss_sigma) for img in imgs]"
   ]
  },
  {
   "cell_type": "markdown",
   "metadata": {},
   "source": [
    "### **Tarea B.5:** Defina la función ``canny_edge_detector()`` que detecte bordes con el método Canny."
   ]
  },
  {
   "cell_type": "code",
   "execution_count": 60,
   "metadata": {},
   "outputs": [],
   "source": [
    "# TODO Define the method\n",
    "def canny_edge_detector(img: np.array, sobel_filter: np.array, gauss_sigma: float, gauss_filter_shape: List[int] = None, verbose: bool = True):\n",
    "    # TODO Call the method sobel_edge_detector()\n",
    "    sobel_edges_img, theta = sobel_edge_detector(img, sobel_filter, gauss_sigma)\n",
    "    \n",
    "    # TODO Use NMS to refine edges\n",
    "    canny_edges_img = non_max_suppression(sobel_edges_img, theta)\n",
    "    \n",
    "    if verbose:\n",
    "        show_image(canny_edges_img, img_name=\"Canny Edges\")\n",
    "        \n",
    "    return canny_edges_img"
   ]
  },
  {
   "cell_type": "markdown",
   "metadata": {},
   "source": [
    "### **Tarea B.6.** Aplique el método ``canny_edge_detector()`` a todas las imágenes en ``data``."
   ]
  },
  {
   "cell_type": "code",
   "execution_count": 61,
   "metadata": {},
   "outputs": [],
   "source": [
    "# TODO Define Sobel filter\n",
    "sobel_filter = np.array([[1,0,-1], [2,0,-2], [1,0,-1]])\n",
    "\n",
    "# TODO Define a sigma value for Gauss\n",
    "gauss_sigma = 5\n",
    "\n",
    "\n",
    "# TODO Define a Gauss filter shape\n",
    "gauss_filter_shape = [gauss_sigma*(2*4) - 1, gauss_sigma*(2*4) - 1]\n",
    "\n",
    "# TODO Get the edges detected by Canny using a list comprehension\n",
    "canny_edges = [canny_edge_detector(img, sobel_filter, gauss_sigma, gauss_filter_shape) for img in imgs]"
   ]
  },
  {
   "cell_type": "markdown",
   "metadata": {},
   "source": [
    "### **Pregunta B.1:** Añada ruido a las imágenes de la carpeta ``data``. Compare los resultados que obtiene al aplicar su filtro Sobel con y sin filtro Gausiano."
   ]
  },
  {
   "cell_type": "code",
   "execution_count": 62,
   "metadata": {},
   "outputs": [],
   "source": [
    "# TODO Homework\n",
    "def add_gaussian_noise(image, mean=0, stddev=25):\n",
    "    noise = np.random.normal(mean, stddev, image.shape).astype(np.uint8)\n",
    "    noisy_image = cv2.add(image, noise)\n",
    "    return noisy_image\n",
    "\n",
    "noisy_images = [add_gaussian_noise(img) for img in imgs]\n",
    "\n",
    "def sobel_edge_detection(img, use_gaussian=False, gauss_sigma=1.0):\n",
    "    if use_gaussian:\n",
    "        img = cv2.GaussianBlur(img, (5, 5), gauss_sigma)\n",
    "\n",
    "    sobel_x = cv2.Sobel(img, cv2.CV_64F, 1, 0, ksize=3)\n",
    "    sobel_y = cv2.Sobel(img, cv2.CV_64F, 0, 1, ksize=3)\n",
    "    sobel_edges = cv2.magnitude(sobel_x, sobel_y)\n",
    "    return sobel_edges\n",
    "\n",
    "for i, noisy_img in enumerate(noisy_images):\n",
    "    # Sin suavizado Gaussiano\n",
    "    edges_without_gaussian = sobel_edge_detection(noisy_img, use_gaussian=False)\n",
    "\n",
    "    edges_with_gaussian = sobel_edge_detection(noisy_img, use_gaussian=True, gauss_sigma=1.0)\n",
    "\n",
    "    # Mostrar resultados usando show_image\n",
    "    show_image(noisy_img, img_name=\"Imagen con Ruido\")\n",
    "    show_image(edges_without_gaussian, img_name=\"Sobel sin Gaussiano\")\n",
    "    show_image(edges_with_gaussian, img_name=\"Sobel con Gaussiano\")"
   ]
  },
  {
   "cell_type": "markdown",
   "metadata": {},
   "source": [
    "### **Pregunta B.2:** Utilice la librería ``scikit-image`` y compare el efecto de los filtros Sobel, Canny y Prewitt sobre las imágenes de la carpeta ``data``. ¿Qué diferencias observa entre los filtros? ¿Puede obtener alguna conclusión y/o patrón?"
   ]
  },
  {
   "cell_type": "code",
   "execution_count": 63,
   "metadata": {},
   "outputs": [],
   "source": [
    "from skimage import filters, feature\n",
    "\n",
    "gray_imgs = [cv2.cvtColor(img, cv2.COLOR_BGR2GRAY) for img in imgs]\n",
    "\n",
    "for i, img in enumerate(gray_imgs):\n",
    "    # Aplicar el filtro Sobel\n",
    "    sobel_edges = filters.sobel(img)\n",
    "\n",
    "    prewitt_edges = filters.prewitt(img)\n",
    "\n",
    "    canny_edges = feature.canny(img, sigma=1.0)  # Puedes ajustar sigma para modificar la sensibilidad\n",
    "\n",
    "    # Mostrar los resultados usando show_image\n",
    "    show_image(img, img_name=\"Original Image\")\n",
    "    show_image((sobel_edges * 255).astype(np.uint8), img_name=\"Sobel Edges\")\n",
    "    show_image((prewitt_edges * 255).astype(np.uint8), img_name=\"Prewitt Edges\")\n",
    "    show_image(canny_edges.astype(np.uint8) * 255, img_name=\"Canny Edges\")\n"
   ]
  },
  {
   "cell_type": "markdown",
   "metadata": {},
   "source": [
    "## **Apartado C (Opcional):** Operadores Morfológicos"
   ]
  },
  {
   "cell_type": "markdown",
   "metadata": {},
   "source": [
    "Para resolver este partado, deberá seguir los siguientes pasos:\n",
    "\n",
    "1. **Tarea C.1.** Defina el método ``binarize()`` para binarizar imágenes.\n",
    "2. **Tarea C.2.** Defina el método ``custom_dilate()``.\n",
    "3. **Tarea C.3.** Defina el método ``custom_erode()``.\n",
    "4. **Pregunta C.1** Aplique los métodos ``custom_dilate()`` y ``custom_erode()`` a todas las imágenes de la carpeta ``data``.\n"
   ]
  },
  {
   "cell_type": "markdown",
   "metadata": {},
   "source": [
    "### **Tarea C.1.** Defina el método ``binarize()`` para binarizar imágenes."
   ]
  },
  {
   "cell_type": "code",
   "execution_count": null,
   "metadata": {},
   "outputs": [],
   "source": [
    "# TODO Homework: define the binarization method\n",
    "def binarize(img: np.array, threshold: int = 127):\n",
    "    binary_img = None\n",
    "    return binary_img"
   ]
  },
  {
   "cell_type": "markdown",
   "metadata": {},
   "source": [
    "### **Tarea C.2.** Defina el método ``custom_dilate()``"
   ]
  },
  {
   "cell_type": "code",
   "execution_count": null,
   "metadata": {},
   "outputs": [],
   "source": [
    "# TODO Homework: define the dilation method\n",
    "def custom_dilate(img):\n",
    "    # TODO pad the original image so it can keep dimensions after processing\n",
    "    padded = np.pad()\n",
    "    \n",
    "    # TODO get img shape\n",
    "    width = None\n",
    "    height = None\n",
    "    \n",
    "    # TODO Create an element with the same dimensions as the padded img\n",
    "    dilated = np.zeros()\n",
    "    \n",
    "    for j in range(height):\n",
    "        for i in range(width):\n",
    "            # TODO Add logic to the operation\n",
    "            pass\n",
    "            \n",
    "    # TODO Select the region of interest (ROI). Modify if needed\n",
    "    dilated = dilated[1:height+1, 1:width+1]\n",
    "    \n",
    "    return dilated"
   ]
  },
  {
   "cell_type": "markdown",
   "metadata": {},
   "source": [
    "### **Tarea C.3.** Defina el método ``custom_erode()``"
   ]
  },
  {
   "cell_type": "code",
   "execution_count": null,
   "metadata": {},
   "outputs": [],
   "source": [
    "# TODO Homework: define the erotion method\n",
    "def custom_erode(img):\n",
    "    eroded = None\n",
    "    \n",
    "    return eroded"
   ]
  },
  {
   "cell_type": "markdown",
   "metadata": {},
   "source": [
    "### **Pregunta C.1** Aplique los métodos ``custom_dilate()`` y ``custom_erode()`` a todas las imágenes de la carpeta ``data``."
   ]
  },
  {
   "cell_type": "code",
   "execution_count": null,
   "metadata": {},
   "outputs": [],
   "source": [
    "# TODO Homework"
   ]
  }
 ],
 "metadata": {
  "kernelspec": {
   "display_name": "base",
   "language": "python",
   "name": "python3"
  },
  "language_info": {
   "codemirror_mode": {
    "name": "ipython",
    "version": 3
   },
   "file_extension": ".py",
   "mimetype": "text/x-python",
   "name": "python",
   "nbconvert_exporter": "python",
   "pygments_lexer": "ipython3",
   "version": "3.9.12"
  }
 },
 "nbformat": 4,
 "nbformat_minor": 2
}
